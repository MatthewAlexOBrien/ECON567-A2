{
 "cells": [
  {
   "cell_type": "code",
   "execution_count": 52,
   "metadata": {},
   "outputs": [
    {
     "name": "stdout",
     "output_type": "stream",
     "text": [
      "\u001b[32m\u001b[1m  Updating\u001b[22m\u001b[39m registry at `~/.julia/registries/General`\n",
      "\u001b[32m\u001b[1m  Updating\u001b[22m\u001b[39m git-repo `https://github.com/JuliaRegistries/General.git`\n",
      "\u001b[?25l\u001b[2K\u001b[?25h"
     ]
    }
   ],
   "source": [
    "#Load and activate packages\n",
    "using Pkg \n",
    "Pkg.activate(\"..\")\n",
    "Pkg.instantiate()"
   ]
  },
  {
   "cell_type": "code",
   "execution_count": 50,
   "metadata": {},
   "outputs": [],
   "source": [
    "#Files we need\n",
    "using Revise\n",
    "if (!(\"../src\" ∈ LOAD_PATH))\n",
    "  push!(LOAD_PATH, \"../src\") \n",
    "end\n",
    "using PharmacyEntry"
   ]
  },
  {
   "cell_type": "code",
   "execution_count": 5,
   "metadata": {},
   "outputs": [
    {
     "data": {
      "text/plain": [
       "HTMLElement{:tr}:\n",
       "<tr class=\"odd\">\n",
       "  <td>\n",
       "    108 STOP PHARMACY\n",
       "  </td>\n",
       "  <td>\n",
       "    13444 108 Ave\n",
       "    Surrey, BC  V3T 2K1\n",
       "    CANADA\n",
       "  </td>\n",
       "  <td>\n",
       "    Moheb Michael\n",
       "  </td>\n",
       "  <td>\n",
       "    (604) 957-0711\n",
       "  </td>\n",
       "  <td>\n",
       "    (604) 953-1700\n",
       "  </td>\n",
       "</tr>\n"
      ]
     },
     "metadata": {},
     "output_type": "display_data"
    },
    {
     "data": {
      "text/plain": [
       "5-element Array{HTMLNode,1}:\n",
       " HTMLElement{:td}:\n",
       "<td>\n",
       "  108 STOP PHARMACY\n",
       "</td>\n",
       "                           \n",
       " HTMLElement{:td}:\n",
       "<td>\n",
       "  13444 108 Ave\n",
       "  Surrey, BC  V3T 2K1\n",
       "  CANADA\n",
       "</td>\n",
       "\n",
       " HTMLElement{:td}:\n",
       "<td>\n",
       "  Moheb Michael\n",
       "</td>\n",
       "                               \n",
       " HTMLElement{:td}:\n",
       "<td>\n",
       "  (604) 957-0711\n",
       "</td>\n",
       "                              \n",
       " HTMLElement{:td}:\n",
       "<td>\n",
       "  (604) 953-1700\n",
       "</td>\n",
       "                              "
      ]
     },
     "metadata": {},
     "output_type": "display_data"
    },
    {
     "name": "stdout",
     "output_type": "stream",
     "text": [
      "length(rows) = 1358\n",
      "typeof(rows) = Array{HTMLNode,1}\n",
      "typeof(rows[1]) = HTMLElement{:tr}\n"
     ]
    }
   ],
   "source": [
    "# download website\n",
    "\n",
    "using HTTP, Gumbo, Cascadia\n",
    "r =  HTTP.get(\"http://www.bcpharmacists.org/list-community-pharmacies\");  \n",
    "\n",
    "# parse website into tree using Gumbo.jl\n",
    "h = Gumbo.parsehtml(String(r.body));\n",
    "\n",
    "# select elements by CSS with Cascadia\n",
    "rows = eachmatch(Cascadia.Selector(\"tr.odd, tr.even\"), h.root);\n",
    "@show length(rows)\n",
    "@show typeof(rows)\n",
    "@show typeof(rows[1])\n",
    "display(rows[1])\n",
    "display(rows[1].children);\n"
   ]
  },
  {
   "cell_type": "code",
   "execution_count": 6,
   "metadata": {},
   "outputs": [],
   "source": [
    "###Put Data into a workable data Frame###\n",
    "#This will create rows that are the corresponding columns on \n",
    "#the webpage we are gathering the data from. \n",
    "\n",
    "using DataFrames\n",
    "function parserow(row)\n",
    "  fields = nodeText.(row.children)\n",
    "  fields = reshape(fields, (1, length(fields)))\n",
    "end\n",
    "txt = vcat(parserow.(rows)...)\n",
    "\n",
    "#create the new dataframe to use\n",
    "bc = DataFrame(txt, [:name, :address, :manager, :phone, :fax])\n",
    "describe(bc);"
   ]
  },
  {
   "cell_type": "code",
   "execution_count": 7,
   "metadata": {},
   "outputs": [],
   "source": [
    "##Extract information we want using regular expressions\n",
    "\n",
    "bc[:street] = (a->replace(a, r\"(.+)\\n.+, BC.+\\n.+\"s => s\"\\1\")).(bc[:address])\n",
    "bc[:city]   = (a->replace(a, r\".+\\n(.+), BC.+\\n.+\"s => s\"\\1\")).(bc[:address])\n",
    "bc[:zip]  =     (a->replace(a, r\".+(\\p{L}\\d\\p{L}).?(\\d\\p{L}\\d).*\"s => s\"\\1 \\2\")).(bc[:address])\n",
    "bc[:zipalt]    = (a->replace(a, r\".+(\\p{L}\\d\\p{L} \\d\\p{L}\\d).*\"s => s\"\\1\")).(bc[:address])\n",
    "bc[:province] = \"BC\" \n",
    "describe(bc);"
   ]
  },
  {
   "cell_type": "markdown",
   "metadata": {},
   "source": [
    "### Problem 1: Compare zip and zipalt\n",
    "The second one requires that there is a space between the first block of three characters \n",
    "and the second block of three characters whereas the first one does not. It is possible\n",
    "that the postal codes on websites we are parsing from do not have spaces in them, in which\n",
    "case zipalt would not pick them up. For example, if the postal code as listed as K0A2W0 with\n",
    "no space, then zipalt would not match sinc eit requires a space. "
   ]
  },
  {
   "cell_type": "code",
   "execution_count": null,
   "metadata": {},
   "outputs": [],
   "source": [
    "#Compare :zip and :zipalt\n",
    "#bc[:zip]  = (a->replace(a,r\".+(\\p{L}\\d\\p{L}).?(\\d\\p{L}\\d).*\"s => s\"\\1 \\2\")).(bc[:address]);\n",
    "#bc[:zipalt] = (a->replace(a, r\".+(\\p{L}\\d\\p{L} \\d\\p{L}\\d).*\"s => s\"\\1\")).(bc[:address]);\n"
   ]
  },
  {
   "cell_type": "markdown",
   "metadata": {},
   "source": [
    "### Problem 2: Parse and additional Province (NB)"
   ]
  },
  {
   "cell_type": "code",
   "execution_count": 13,
   "metadata": {},
   "outputs": [
    {
     "data": {
      "text/plain": [
       "loadNBdata (generic function with 2 methods)"
      ]
     },
     "execution_count": 13,
     "metadata": {},
     "output_type": "execute_result"
    }
   ],
   "source": [
    "#Here I will be collecting data on New Brunswick Pharmacies. laodNBdata is in the \n",
    "#pharmacies.jl file but I'll show it here as well. \n",
    "\n",
    "function loadNBdata(redownload=false)\n",
    "  csvfile=normpath(joinpath(@__DIR__,\"..\",\"data\",\"nb-pharmacies.csv\"))\n",
    "    \n",
    "  if (redownload || !isfile(csvfile))  \n",
    "    nb = 1 \n",
    "        #Since New Brunswicks has their pharmacy list spanning 5 different pages, we will need to make a loop \n",
    "        #that cycles through all 5 pages to get all the data we want. \n",
    "    for i = 1:5 \n",
    "        web = string(\"https://www.nbpharmacists.ca/client/roster/clientRosterView.html?clientRosterId=208&page=\", i)\n",
    "        r =  HTTP.get(web) ; #Pulls from the web\n",
    "        h = parsehtml(String(r.body)); #Puts into strings then cuts it into segments\n",
    "    \n",
    "        rows = eachmatch(Selector(\"div > div > table > tbody\"),h.root); #tree path to get at the text we want\n",
    "        println(size(rows))\n",
    "        rows = rows[2:length(rows)]; # first one is empty\n",
    "        function parserowNB(row)\n",
    "            name = nodeText(row.children[1].children[1].children[1].children[1].children[1]) #Each of these will pick out the exact row you want from each Tbody\n",
    "            manager = nodeText(row.children[1].children[1].children[2].children[2])\n",
    "            phone = nodeText(row.children[1].children[2].children[4].children[2])\n",
    "            fax = nodeText(row.children[1].children[2].children[4].children[5])\n",
    "            street = nodeText(row.children[1].children[2].children[2])\n",
    "            city_prov_zip = nodeText(row.children[1].children[2].children[3])\n",
    "            address = string(street, city_prov_zip)\n",
    "            txt = [name manager phone fax street city_prov_zip address]\n",
    "        end\n",
    "        \n",
    "        n = DataFrame(vcat(parserowNB.(rows)...),\n",
    "                   [:name, :manager, :phone, :fax, :street, :city_prov_zip, :address])\n",
    "        n[:city]   = (a->replace(a, r\"(.+) NB .+\"s => s\"\\1\")).(n[:city_prov_zip])\n",
    "        n[:zip]  =     (a->replace(a,r\".+ NB (.+)\" => s\"\\1\")).(n[:city_prov_zip])\n",
    "        n[:province] = \"NB\" \n",
    "        delete!(n, :city_prov_zip) #align with Manitoba and BC\n",
    "        \n",
    "        #Code to append scraped data from the latest iteration to the dataframe    \n",
    "        if nb == 1\n",
    "           nb = n\n",
    "        else nb = vcat(nb,n)\n",
    "        end\n",
    "            \n",
    "     end \n",
    "        \n",
    "    CSV.write(csvfile,nb)\n",
    "          \n",
    "  else\n",
    "    nb = CSV.read(csvfile)\n",
    "  end\n",
    "  return(nb)\n",
    "end"
   ]
  },
  {
   "cell_type": "code",
   "execution_count": 3,
   "metadata": {},
   "outputs": [],
   "source": [
    "#Just checking that they are all formatted the same way\n",
    "\n",
    "nb = PharmacyEntry.loadNBdata(false);\n",
    "bc = PharmacyEntry.loadBCdata(false);\n",
    "mb = PharmacyEntry.loadMBdata(false); \n",
    "\n",
    "nbbcmb = vcat(bc,mb,nb);\n",
    "bcmb = vcat(bc,mb);"
   ]
  },
  {
   "cell_type": "markdown",
   "metadata": {},
   "source": [
    "### Problem 3: Market Definition \n",
    "\n",
    "Based on the various definitions of geographic area defined by Statistics Canada, I do think that opulation centre is the most appropriate. Although, I am still not convinced that this is necessairily ideal for what we are trying to show. We are arguing that all pharmacies in the same population centre compete with one another, however this will not be the case for larger population centres. For instance, Vancouver itself is one population centre, but pharmacies in Delta don't actually compete with pharmacies in West Vancouver. Demand for pharmeceutical drugs is fairly inelestic in general, so when a consumer is deciding where to pick up there perscriptions, they will likley just go to the pharmacy that is closest. Just because a pharmacy in Delta has a slightly lower price, this doesn't mean that a consumer would drive an hour and a half to get the deal. Most Canadians have insurance for perscriptions anyways, so this just adds to the inelasticity. Maybe a better measure of 'pharmacies that compete' would be neighbourhood, at least in large population centres. We could potnetially use the first 3 character of the zip code to group pharmacies into neighbourhoods. "
   ]
  },
  {
   "cell_type": "code",
   "execution_count": 8,
   "metadata": {},
   "outputs": [],
   "source": [
    "#Create new variable for competeing neighbourhood\n",
    "#Maybe use later?\n",
    "\n",
    "nb[:neighbourhoods]  = (a->replace(a,r\".+(\\p{L}\\d\\p{L}).?(\\d\\p{L}\\d).*\"s => s\"\\1\")).(nb[:address]);"
   ]
  },
  {
   "cell_type": "markdown",
   "metadata": {},
   "source": [
    "### Problem 4: Geocoding New Brunswick"
   ]
  },
  {
   "cell_type": "code",
   "execution_count": 4,
   "metadata": {},
   "outputs": [
    {
     "name": "stdout",
     "output_type": "stream",
     "text": [
      "reading pharmacy data from /home/jupyter/PharmacyEntry/data/pharmacies.csv\n"
     ]
    },
    {
     "name": "stderr",
     "output_type": "stream",
     "text": [
      "┌ Info: reading cleaned census data from /home/jupyter/PharmacyEntry/data/popcentres.csv\n",
      "└ @ PharmacyEntry /home/jupyter/PharmacyEntry/src/census.jl:145\n"
     ]
    },
    {
     "name": "stdout",
     "output_type": "stream",
     "text": [
      "mean(allProv[:zipmatch]) = 0.6256921373200443\n"
     ]
    },
    {
     "data": {
      "text/plain": [
       "0.6256921373200443"
      ]
     },
     "execution_count": 4,
     "metadata": {},
     "output_type": "execute_result"
    }
   ],
   "source": [
    "#tried very hard but couldnt get the geocoding to work for nb\n",
    "\n",
    "using Statistics\n",
    "allProv = PharmacyEntry.loadpharmacydata()\n",
    "census = PharmacyEntry.loadcensusdata()\n",
    "\n",
    "checklatlng!(allProv, :lat, :lng, :zip)\n",
    "@show mean(allProv[:zipmatch])"
   ]
  },
  {
   "cell_type": "markdown",
   "metadata": {},
   "source": [
    "### Problem 5: assign pharmacies to markets\n",
    "\n",
    "So here we want to match each pharmacy to a population centre. Our data in cencus has logitude and latitude of population centres, while our data in allProv has logitude and latidue data for pharmacies. So we can make a function that matches each pharmacy to its corresponding population centre. I believe that the papaer says that pharmacies within 100km of a population centre belong to that population centre, so sticking with this convention Im going to write a function that assigns pharmacies to population centres that are within 1 degree of longitute and 1 degree of latititude (which is roughly 100km)."
   ]
  },
  {
   "cell_type": "code",
   "execution_count": 5,
   "metadata": {},
   "outputs": [
    {
     "ename": "UndefVarError",
     "evalue": "UndefVarError: CSV not defined",
     "output_type": "error",
     "traceback": [
      "UndefVarError: CSV not defined",
      "",
      "Stacktrace:",
      " [1] top-level scope at In[5]:27"
     ]
    }
   ],
   "source": [
    "subset = (x->x ∈ [\"British Columbia\",\n",
    "                  \"Manitoba\",\n",
    "                  \"Manitoba/Saskatchewan\"]).(census[:PROV_TERR_NAME_NOM] )\n",
    "df = census[subset,:]\n",
    "    \n",
    "    df[:pharmacies] = 0\n",
    "function pharmcount(lat, lng ; data = df) \n",
    "    function distance_m(lng, lat, zlng, zlat) # wasn't calling from geo.jl for some reason\n",
    "  if ismissing(lng) || ismissing(lat) || ismissing(zlng) || ismissing(zlat)\n",
    "    missing\n",
    "  else\n",
    "    Geodesy.distance(Geodesy.LLA(lng, lat), Geodesy.LLA(zlng,zlat))\n",
    "  end\n",
    "end\n",
    "  d = PharmacyEntry.distance_m.(lng, lat, data[:lng], data[:lat])\n",
    "  (dm, i) = findmin(d)\n",
    "  data[:pharmacies][i] = data[:pharmacies][i] + 1\n",
    "end\n",
    "    \n",
    "#Creating an array for logitude and latitude\n",
    "lat = allProv[:lat]\n",
    "lat[ismissing.(lat)] .= allProv[:ziplat][ismissing.(lat)]\n",
    "lng = allProv[:lng]\n",
    "lng[ismissing.(lng)] .= allProv[:ziplng][ismissing.(lng)]\n",
    "\n",
    "pharmcount.(lat,lng)\n",
    "CSV.write(\"cleandata.csv\",df);"
   ]
  },
  {
   "cell_type": "code",
   "execution_count": 8,
   "metadata": {},
   "outputs": [
    {
     "data": {
      "text/html": [
       "<table class=\"data-frame\"><thead><tr><th></th><th>n0</th><th>n1</th><th>n2</th><th>n3</th><th>n4</th><th>n5</th><th>n6</th><th>n7</th><th>n8</th><th>n9</th><th>n10</th><th>n10plus</th><th>n50plus</th><th>n100plus</th><th>n150plus</th><th>n200plus</th></tr><tr><th></th><th>Int64</th><th>Int64</th><th>Int64</th><th>Int64</th><th>Int64</th><th>Int64</th><th>Int64</th><th>Int64</th><th>Int64</th><th>Int64</th><th>Int64</th><th>Int64</th><th>Int64</th><th>Int64</th><th>Int64</th><th>Int64</th></tr></thead><tbody><p>1 rows × 16 columns</p><tr><th>1</th><td>19</td><td>18</td><td>30</td><td>20</td><td>11</td><td>8</td><td>7</td><td>5</td><td>5</td><td>4</td><td>1</td><td>30</td><td>5</td><td>4</td><td>4</td><td>1</td></tr></tbody></table>"
      ],
      "text/latex": [
       "\\begin{tabular}{r|cccccccccccccccc}\n",
       "\t& n0 & n1 & n2 & n3 & n4 & n5 & n6 & n7 & n8 & n9 & n10 & n10plus & n50plus & n100plus & n150plus & n200plus\\\\\n",
       "\t\\hline\n",
       "\t& Int64 & Int64 & Int64 & Int64 & Int64 & Int64 & Int64 & Int64 & Int64 & Int64 & Int64 & Int64 & Int64 & Int64 & Int64 & Int64\\\\\n",
       "\t\\hline\n",
       "\t1 & 19 & 18 & 30 & 20 & 11 & 8 & 7 & 5 & 5 & 4 & 1 & 30 & 5 & 4 & 4 & 1 \\\\\n",
       "\\end{tabular}\n"
      ],
      "text/plain": [
       "1×16 DataFrame. Omitted printing of 7 columns\n",
       "│ Row │ n0    │ n1    │ n2    │ n3    │ n4    │ n5    │ n6    │ n7    │ n8    │\n",
       "│     │ \u001b[90mInt64\u001b[39m │ \u001b[90mInt64\u001b[39m │ \u001b[90mInt64\u001b[39m │ \u001b[90mInt64\u001b[39m │ \u001b[90mInt64\u001b[39m │ \u001b[90mInt64\u001b[39m │ \u001b[90mInt64\u001b[39m │ \u001b[90mInt64\u001b[39m │ \u001b[90mInt64\u001b[39m │\n",
       "├─────┼───────┼───────┼───────┼───────┼───────┼───────┼───────┼───────┼───────┤\n",
       "│ 1   │ 19    │ 18    │ 30    │ 20    │ 11    │ 8     │ 7     │ 5     │ 5     │"
      ]
     },
     "execution_count": 8,
     "metadata": {},
     "output_type": "execute_result"
    }
   ],
   "source": [
    "#Table 2 - distribution of number of pharmacies in each market\n",
    "\n",
    "using DataFrames\n",
    "\n",
    "census1 = df;\n",
    "x0 = census1[census1[:pharmacies].==0,[:GEO_NAME]]\n",
    "x1 = census1[census1[:pharmacies].==1,[:GEO_NAME]]\n",
    "x2 = census1[census1[:pharmacies].==2,[:GEO_NAME]]\n",
    "x3 = census1[census1[:pharmacies].==3,[:GEO_NAME]]\n",
    "x4 = census1[census1[:pharmacies].==4,[:GEO_NAME]]\n",
    "x5 = census1[census1[:pharmacies].==5,[:GEO_NAME]]\n",
    "x6 = census1[census1[:pharmacies].==6,[:GEO_NAME]]\n",
    "x7 = census1[census1[:pharmacies].==7,[:GEO_NAME]]\n",
    "x8 = census1[census1[:pharmacies].==8,[:GEO_NAME]]\n",
    "x9 = census1[census1[:pharmacies].==9,[:GEO_NAME]]\n",
    "x10 = census1[census1[:pharmacies].==10,[:GEO_NAME]]\n",
    "x10plus = census1[census1[:pharmacies].>10,[:GEO_NAME]]\n",
    "x50plus = census1[census1[:pharmacies].>50,[:GEO_NAME]]\n",
    "x100plus = census1[census1[:pharmacies].>100,[:GEO_NAME]]\n",
    "x150plus = census1[census1[:pharmacies].>150,[:GEO_NAME]]\n",
    "x200plus = census1[census1[:pharmacies].>200,[:GEO_NAME]]\n",
    "\n",
    "Table2 = DataFrame(n0 =size(x0,1), n1 = size(x1,1), n2 = size(x2,1), n3 = size(x3,1), \n",
    "    n4 = size(x4,1), n5 = size(x5,1), n6 = size(x6,1), n7 = size(x7,1), n8 = size(x8,1), \n",
    "    n9 = size(x9,1), n10 = size(x10,1), n10plus = size(x10plus,1), n50plus = size(x50plus,1), \n",
    "    n100plus = size(x100plus,1), n150plus = size(x150plus,1), n200plus = size(x200plus,1))\n",
    "\n",
    "#I know this is cringworthy..Ill try and write a nicer function at the end if I have time. \n"
   ]
  },
  {
   "cell_type": "code",
   "execution_count": 30,
   "metadata": {},
   "outputs": [],
   "source": [
    "#Figure 3 - So for figuire 3 in the paper we have a barchart that shows the amount of pharmcy groups for each population group. \n",
    "\n",
    "#first we need to rename the population variable to have no spaces so we can actually call it\n",
    "rename!(census1, [x => replace(string(x), \"Population, 2016\" => \"pop2016\")|> Symbol for x in names(census1)]);\n",
    "\n",
    "#Now assign each population centre into a population group\n",
    "\n",
    "census1[:group] = 1\n",
    "    for i = 1:length(census1[:pop2016])\n",
    "if  (census1[:pop2016][i] >= 0) & (census1[:pop2016][i] < 2500)\n",
    "        census1[:group][i] = 1 \n",
    "            elseif (census1[:pop2016][i] >= 2500) & (census1[:pop2016][i] < 5000)\n",
    "                    census1[:group][i] = 2\n",
    "                elseif (census1[:pop2016][i] >= 5000) & (census1[:pop2016][i] < 7500)\n",
    "                    census1[:group][i] = 3\n",
    "                      elseif (census1[:pop2016][i] >= 7500) & (census1[:pop2016][i] < 10000)\n",
    "                    census1[:group][i] =4\n",
    "                        elseif (census1[:pop2016][i] >= 10000) & (census1[:pop2016][i] < 12500)\n",
    "                    census1[:group][i] = 5\n",
    "                             elseif (census1[:pop2016][i] >= 12500) & (census1[:pop2016][i] < 15000)\n",
    "                    census1[:group][i] =6\n",
    "                        else \n",
    "                           census1[:group][i] =  7\n",
    "        end\n",
    "    end"
   ]
  },
  {
   "cell_type": "code",
   "execution_count": 11,
   "metadata": {},
   "outputs": [],
   "source": [
    "#Now do the same thing for Pharmacies\n",
    "\n",
    "census1[:pharm_group] = 0 \n",
    "for i = 1:length(census1[:pharmacies])\n",
    "if (census1[:pharmacies][i] >= 0) & (census1[:pharmacies][i] < 5)\n",
    "    census1[:pharm_group][i] = 1\n",
    "    elseif (census1[:pharmacies][i] >= 5) & (census1[:pharmacies][i] < 10)\n",
    "            census1[:pharm_group][i] = 2\n",
    "             elseif  (census1[:pharmacies][i] >= 10) & (census1[:pharmacies][i] < 20)\n",
    "            census1[:pharm_group][i] = 3\n",
    "                  elseif (census1[:pharmacies][i] >= 20) & (census1[:pharmacies][i] < 50)\n",
    "            census1[:pharm_group][i] = 4\n",
    "                    elseif (census1[:pharmacies][i] >= 50) & (census1[:pharmacies][i] < 100)\n",
    "            census1[:pharm_group][i] = 5\n",
    "                         elseif (census1[:pharmacies][i] >= 100) & (census1[:pharmacies][i] < 200)\n",
    "            census1[:pharm_group][i] = 6\n",
    "                            else \n",
    "            census1[:pharm_group][i] = 7   \n",
    "        end\n",
    "    end"
   ]
  },
  {
   "cell_type": "code",
   "execution_count": 37,
   "metadata": {},
   "outputs": [],
   "source": [
    "#now, make a table that shows all the different combinations of population centres and pharmacy groups. For instance, \n",
    "#an interpretation of the first row in the dataframe made from this code is that there are for population group 2 (2500-5000), \n",
    "#there are 27 population centres that have between 0 and 5 pharmacies. \n",
    "\n",
    "df =  by(census1,[:group,:pharm_group],census1->length(collect(census1[:pharmacies])));\n",
    "\n"
   ]
  },
  {
   "cell_type": "code",
   "execution_count": 38,
   "metadata": {},
   "outputs": [
    {
     "data": {
      "application/vnd.vegalite.v2+json": {
       "data": {
        "values": [
         {
          "group": 2,
          "pharm_group": 1,
          "x1": 27
         },
         {
          "group": 3,
          "pharm_group": 1,
          "x1": 7
         },
         {
          "group": 1,
          "pharm_group": 1,
          "x1": 57
         },
         {
          "group": 2,
          "pharm_group": 3,
          "x1": 3
         },
         {
          "group": 7,
          "pharm_group": 4,
          "x1": 8
         },
         {
          "group": 7,
          "pharm_group": 3,
          "x1": 5
         },
         {
          "group": 1,
          "pharm_group": 2,
          "x1": 4
         },
         {
          "group": 2,
          "pharm_group": 2,
          "x1": 4
         },
         {
          "group": 4,
          "pharm_group": 2,
          "x1": 3
         },
         {
          "group": 7,
          "pharm_group": 2,
          "x1": 5
         },
         {
          "group": 5,
          "pharm_group": 2,
          "x1": 5
         },
         {
          "group": 7,
          "pharm_group": 1,
          "x1": 1
         },
         {
          "group": 4,
          "pharm_group": 1,
          "x1": 5
         },
         {
          "group": 5,
          "pharm_group": 1,
          "x1": 1
         },
         {
          "group": 6,
          "pharm_group": 3,
          "x1": 2
         },
         {
          "group": 5,
          "pharm_group": 3,
          "x1": 1
         },
         {
          "group": 6,
          "pharm_group": 2,
          "x1": 5
         },
         {
          "group": 4,
          "pharm_group": 3,
          "x1": 1
         },
         {
          "group": 3,
          "pharm_group": 2,
          "x1": 3
         },
         {
          "group": 1,
          "pharm_group": 4,
          "x1": 3
         },
         {
          "group": 7,
          "pharm_group": 6,
          "x1": 3
         },
         {
          "group": 7,
          "pharm_group": 5,
          "x1": 1
         },
         {
          "group": 5,
          "pharm_group": 4,
          "x1": 1
         },
         {
          "group": 1,
          "pharm_group": 3,
          "x1": 2
         },
         {
          "group": 7,
          "pharm_group": 7,
          "x1": 1
         }
        ]
       },
       "encoding": {
        "color": {
         "field": "pharm_group",
         "type": "quantitative"
        },
        "x": {
         "field": "group",
         "type": "quantitative"
        },
        "y": {
         "field": "x1",
         "type": "quantitative"
        }
       },
       "mark": "bar"
      },
      "image/png": "[encoded data removed]",
      "image/svg+xml": [
       "<?xml version=\"1.0\" encoding=\"utf-8\"?>\n",
       "<!DOCTYPE svg PUBLIC \"-//W3C//DTD SVG 1.1//EN\" \"http://www.w3.org/Graphics/SVG/1.1/DTD/svg11.dtd\">\n",
       "<svg class=\"marks\" width=\"372\" height=\"251\" viewBox=\"0 0 372 251\" version=\"1.1\" xmlns=\"http://www.w3.org/2000/svg\" xmlns:xlink=\"http://www.w3.org/1999/xlink\"><defs><linearGradient id=\"gradient_0\" x1=\"0\" x2=\"0\" y1=\"1\" y2=\"0\"><stop offset=\"0\" stop-color=\"rgb(207, 225, 242)\"></stop><stop offset=\"0.08333333333333333\" stop-color=\"rgb(191, 217, 236)\"></stop><stop offset=\"0.16666666666666666\" stop-color=\"rgb(171, 207, 230)\"></stop><stop offset=\"0.25\" stop-color=\"rgb(147, 195, 223)\"></stop><stop offset=\"0.3333333333333333\" stop-color=\"rgb(121, 181, 217)\"></stop><stop offset=\"0.4166666666666667\" stop-color=\"rgb(97, 167, 209)\"></stop><stop offset=\"0.5\" stop-color=\"rgb(75, 151, 201)\"></stop><stop offset=\"0.5833333333333334\" stop-color=\"rgb(55, 135, 192)\"></stop><stop offset=\"0.6666666666666666\" stop-color=\"rgb(38, 118, 182)\"></stop><stop offset=\"0.75\" stop-color=\"rgb(24, 100, 170)\"></stop><stop offset=\"0.8333333333333334\" stop-color=\"rgb(13, 83, 154)\"></stop><stop offset=\"0.9166666666666666\" stop-color=\"rgb(9, 66, 133)\"></stop><stop offset=\"1\" stop-color=\"rgb(8, 48, 107)\"></stop></linearGradient></defs><g transform=\"translate(52,11)\"><g class=\"mark-group role-frame root\"><g transform=\"translate(0,0)\"><path class=\"background\" d=\"M0.5,0.5h200v200h-200Z\" style=\"fill: none; stroke: #ddd;\"></path><g><g class=\"mark-group role-axis\"><g transform=\"translate(0.5,200.5)\"><path class=\"background\" d=\"M0,0h0v0h0Z\" style=\"pointer-events: none; fill: none;\"></path><g><g class=\"mark-rule role-axis-grid\" style=\"pointer-events: none;\"><line transform=\"translate(14,-200)\" x2=\"0\" y2=\"200\" style=\"fill: none; stroke: #ddd; stroke-width: 1; opacity: 1;\"></line><line transform=\"translate(43,-200)\" x2=\"0\" y2=\"200\" style=\"fill: none; stroke: #ddd; stroke-width: 1; opacity: 1;\"></line><line transform=\"translate(71,-200)\" x2=\"0\" y2=\"200\" style=\"fill: none; stroke: #ddd; stroke-width: 1; opacity: 1;\"></line><line transform=\"translate(100,-200)\" x2=\"0\" y2=\"200\" style=\"fill: none; stroke: #ddd; stroke-width: 1; opacity: 1;\"></line><line transform=\"translate(129,-200)\" x2=\"0\" y2=\"200\" style=\"fill: none; stroke: #ddd; stroke-width: 1; opacity: 1;\"></line><line transform=\"translate(157,-200)\" x2=\"0\" y2=\"200\" style=\"fill: none; stroke: #ddd; stroke-width: 1; opacity: 1;\"></line><line transform=\"translate(186,-200)\" x2=\"0\" y2=\"200\" style=\"fill: none; stroke: #ddd; stroke-width: 1; opacity: 1;\"></line></g></g></g></g><g class=\"mark-group role-axis\"><g transform=\"translate(0.5,0.5)\"><path class=\"background\" d=\"M0,0h0v0h0Z\" style=\"pointer-events: none; fill: none;\"></path><g><g class=\"mark-rule role-axis-grid\" style=\"pointer-events: none;\"><line transform=\"translate(0,200)\" x2=\"200\" y2=\"0\" style=\"fill: none; stroke: #ddd; stroke-width: 1; opacity: 1;\"></line><line transform=\"translate(0,167)\" x2=\"200\" y2=\"0\" style=\"fill: none; stroke: #ddd; stroke-width: 1; opacity: 1;\"></line><line transform=\"translate(0,133)\" x2=\"200\" y2=\"0\" style=\"fill: none; stroke: #ddd; stroke-width: 1; opacity: 1;\"></line><line transform=\"translate(0,100)\" x2=\"200\" y2=\"0\" style=\"fill: none; stroke: #ddd; stroke-width: 1; opacity: 1;\"></line><line transform=\"translate(0,67)\" x2=\"200\" y2=\"0\" style=\"fill: none; stroke: #ddd; stroke-width: 1; opacity: 1;\"></line><line transform=\"translate(0,33)\" x2=\"200\" y2=\"0\" style=\"fill: none; stroke: #ddd; stroke-width: 1; opacity: 1;\"></line><line transform=\"translate(0,0)\" x2=\"200\" y2=\"0\" style=\"fill: none; stroke: #ddd; stroke-width: 1; opacity: 1;\"></line></g></g></g></g><g class=\"mark-rect role-mark marks\"><path d=\"M40.357142857142854,110h5v90h-5Z\" style=\"fill: rgb(207, 225, 242);\"></path><path d=\"M68.92857142857143,176.66666666666666h5v23.333333333333343h-5Z\" style=\"fill: rgb(207, 225, 242);\"></path><path d=\"M11.785714285714285,10h5v190h-5Z\" style=\"fill: rgb(207, 225, 242);\"></path><path d=\"M40.357142857142854,190h5v10h-5Z\" style=\"fill: rgb(121, 181, 217);\"></path><path d=\"M183.21428571428572,173.33333333333334h5v26.666666666666657h-5Z\" style=\"fill: rgb(75, 151, 201);\"></path><path d=\"M183.21428571428572,183.33333333333334h5v16.666666666666657h-5Z\" style=\"fill: rgb(121, 181, 217);\"></path><path d=\"M11.785714285714285,186.66666666666666h5v13.333333333333343h-5Z\" style=\"fill: rgb(171, 207, 230);\"></path><path d=\"M40.357142857142854,186.66666666666666h5v13.333333333333343h-5Z\" style=\"fill: rgb(171, 207, 230);\"></path><path d=\"M97.5,190h5v10h-5Z\" style=\"fill: rgb(171, 207, 230);\"></path><path d=\"M183.21428571428572,183.33333333333334h5v16.666666666666657h-5Z\" style=\"fill: rgb(171, 207, 230);\"></path><path d=\"M126.07142857142858,183.33333333333334h5v16.666666666666657h-5Z\" style=\"fill: rgb(171, 207, 230);\"></path><path d=\"M183.21428571428572,196.66666666666666h5v3.333333333333343h-5Z\" style=\"fill: rgb(207, 225, 242);\"></path><path d=\"M97.5,183.33333333333334h5v16.666666666666657h-5Z\" style=\"fill: rgb(207, 225, 242);\"></path><path d=\"M126.07142857142858,196.66666666666666h5v3.333333333333343h-5Z\" style=\"fill: rgb(207, 225, 242);\"></path><path d=\"M154.64285714285714,193.33333333333334h5v6.666666666666657h-5Z\" style=\"fill: rgb(121, 181, 217);\"></path><path d=\"M126.07142857142858,196.66666666666666h5v3.333333333333343h-5Z\" style=\"fill: rgb(121, 181, 217);\"></path><path d=\"M154.64285714285714,183.33333333333334h5v16.666666666666657h-5Z\" style=\"fill: rgb(171, 207, 230);\"></path><path d=\"M97.5,196.66666666666666h5v3.333333333333343h-5Z\" style=\"fill: rgb(121, 181, 217);\"></path><path d=\"M68.92857142857143,190h5v10h-5Z\" style=\"fill: rgb(171, 207, 230);\"></path><path d=\"M11.785714285714285,190h5v10h-5Z\" style=\"fill: rgb(75, 151, 201);\"></path><path d=\"M183.21428571428572,190h5v10h-5Z\" style=\"fill: rgb(13, 83, 154);\"></path><path d=\"M183.21428571428572,196.66666666666666h5v3.333333333333343h-5Z\" style=\"fill: rgb(38, 118, 182);\"></path><path d=\"M126.07142857142858,196.66666666666666h5v3.333333333333343h-5Z\" style=\"fill: rgb(75, 151, 201);\"></path><path d=\"M11.785714285714285,193.33333333333334h5v6.666666666666657h-5Z\" style=\"fill: rgb(121, 181, 217);\"></path><path d=\"M183.21428571428572,196.66666666666666h5v3.333333333333343h-5Z\" style=\"fill: rgb(8, 48, 107);\"></path></g><g class=\"mark-group role-legend\"><g transform=\"translate(218,0)\"><path class=\"background\" d=\"M0,0h97v216h-97Z\" style=\"pointer-events: none; fill: none;\"></path><g><g class=\"mark-group role-legend-entry\"><g transform=\"translate(0,16)\"><path class=\"background\" d=\"M0,0h0v0h0Z\" style=\"pointer-events: none; fill: none;\"></path><g><g class=\"mark-rect role-legend-gradient\" style=\"pointer-events: none;\"><path d=\"M0,0h16v200h-16Z\" style=\"fill: url(#gradient_0); stroke: #ddd; stroke-width: 0; opacity: 1;\"></path></g><g class=\"mark-text role-legend-label\" style=\"pointer-events: none;\"><text text-anchor=\"start\" transform=\"translate(18,169.66666666666669)\" style=\"font-family: sans-serif; font-size: 10px; fill: #000; opacity: 1;\">2</text><text text-anchor=\"start\" transform=\"translate(18,103)\" style=\"font-family: sans-serif; font-size: 10px; fill: #000; opacity: 1;\">4</text><text text-anchor=\"start\" transform=\"translate(18,36.33333333333333)\" style=\"font-family: sans-serif; font-size: 10px; fill: #000; opacity: 1;\">6</text></g></g></g></g><g class=\"mark-text role-legend-title\" style=\"pointer-events: none;\"><text text-anchor=\"start\" transform=\"translate(0,9)\" style=\"font-family: sans-serif; font-size: 11px; font-weight: bold; fill: #000; opacity: 1;\">pharm_group</text></g></g></g></g><g class=\"mark-group role-axis\"><g transform=\"translate(0.5,200.5)\"><path class=\"background\" d=\"M0,0h0v0h0Z\" style=\"pointer-events: none; fill: none;\"></path><g><g class=\"mark-rule role-axis-tick\" style=\"pointer-events: none;\"><line transform=\"translate(14,0)\" x2=\"0\" y2=\"5\" style=\"fill: none; stroke: #888; stroke-width: 1; opacity: 1;\"></line><line transform=\"translate(43,0)\" x2=\"0\" y2=\"5\" style=\"fill: none; stroke: #888; stroke-width: 1; opacity: 1;\"></line><line transform=\"translate(71,0)\" x2=\"0\" y2=\"5\" style=\"fill: none; stroke: #888; stroke-width: 1; opacity: 1;\"></line><line transform=\"translate(100,0)\" x2=\"0\" y2=\"5\" style=\"fill: none; stroke: #888; stroke-width: 1; opacity: 1;\"></line><line transform=\"translate(129,0)\" x2=\"0\" y2=\"5\" style=\"fill: none; stroke: #888; stroke-width: 1; opacity: 1;\"></line><line transform=\"translate(157,0)\" x2=\"0\" y2=\"5\" style=\"fill: none; stroke: #888; stroke-width: 1; opacity: 1;\"></line><line transform=\"translate(186,0)\" x2=\"0\" y2=\"5\" style=\"fill: none; stroke: #888; stroke-width: 1; opacity: 1;\"></line></g><g class=\"mark-text role-axis-label\" style=\"pointer-events: none;\"><text text-anchor=\"middle\" transform=\"translate(14.285714285714285,15)\" style=\"font-family: sans-serif; font-size: 10px; fill: #000; opacity: 1;\">1</text><text text-anchor=\"middle\" transform=\"translate(42.857142857142854,15)\" style=\"font-family: sans-serif; font-size: 10px; fill: #000; opacity: 1;\">2</text><text text-anchor=\"middle\" transform=\"translate(71.42857142857143,15)\" style=\"font-family: sans-serif; font-size: 10px; fill: #000; opacity: 1;\">3</text><text text-anchor=\"middle\" transform=\"translate(100,15)\" style=\"font-family: sans-serif; font-size: 10px; fill: #000; opacity: 1;\">4</text><text text-anchor=\"middle\" transform=\"translate(128.57142857142858,15)\" style=\"font-family: sans-serif; font-size: 10px; fill: #000; opacity: 1;\">5</text><text text-anchor=\"middle\" transform=\"translate(157.14285714285714,15)\" style=\"font-family: sans-serif; font-size: 10px; fill: #000; opacity: 1;\">6</text><text text-anchor=\"middle\" transform=\"translate(185.71428571428572,15)\" style=\"font-family: sans-serif; font-size: 10px; fill: #000; opacity: 1;\">7</text></g><g class=\"mark-rule role-axis-domain\" style=\"pointer-events: none;\"><line transform=\"translate(0,0)\" x2=\"200\" y2=\"0\" style=\"fill: none; stroke: #888; stroke-width: 1; opacity: 1;\"></line></g><g class=\"mark-text role-axis-title\" style=\"pointer-events: none;\"><text text-anchor=\"middle\" transform=\"translate(100,31)\" style=\"font-family: sans-serif; font-size: 11px; font-weight: bold; fill: #000; opacity: 1;\">group</text></g></g></g></g><g class=\"mark-group role-axis\"><g transform=\"translate(0.5,0.5)\"><path class=\"background\" d=\"M0,0h0v0h0Z\" style=\"pointer-events: none; fill: none;\"></path><g><g class=\"mark-rule role-axis-tick\" style=\"pointer-events: none;\"><line transform=\"translate(0,200)\" x2=\"-5\" y2=\"0\" style=\"fill: none; stroke: #888; stroke-width: 1; opacity: 1;\"></line><line transform=\"translate(0,167)\" x2=\"-5\" y2=\"0\" style=\"fill: none; stroke: #888; stroke-width: 1; opacity: 1;\"></line><line transform=\"translate(0,133)\" x2=\"-5\" y2=\"0\" style=\"fill: none; stroke: #888; stroke-width: 1; opacity: 1;\"></line><line transform=\"translate(0,100)\" x2=\"-5\" y2=\"0\" style=\"fill: none; stroke: #888; stroke-width: 1; opacity: 1;\"></line><line transform=\"translate(0,67)\" x2=\"-5\" y2=\"0\" style=\"fill: none; stroke: #888; stroke-width: 1; opacity: 1;\"></line><line transform=\"translate(0,33)\" x2=\"-5\" y2=\"0\" style=\"fill: none; stroke: #888; stroke-width: 1; opacity: 1;\"></line><line transform=\"translate(0,0)\" x2=\"-5\" y2=\"0\" style=\"fill: none; stroke: #888; stroke-width: 1; opacity: 1;\"></line></g><g class=\"mark-text role-axis-label\" style=\"pointer-events: none;\"><text text-anchor=\"end\" transform=\"translate(-7,203)\" style=\"font-family: sans-serif; font-size: 10px; fill: #000; opacity: 1;\">0</text><text text-anchor=\"end\" transform=\"translate(-7,169.66666666666669)\" style=\"font-family: sans-serif; font-size: 10px; fill: #000; opacity: 1;\">10</text><text text-anchor=\"end\" transform=\"translate(-7,136.33333333333334)\" style=\"font-family: sans-serif; font-size: 10px; fill: #000; opacity: 1;\">20</text><text text-anchor=\"end\" transform=\"translate(-7,103)\" style=\"font-family: sans-serif; font-size: 10px; fill: #000; opacity: 1;\">30</text><text text-anchor=\"end\" transform=\"translate(-7,69.66666666666669)\" style=\"font-family: sans-serif; font-size: 10px; fill: #000; opacity: 1;\">40</text><text text-anchor=\"end\" transform=\"translate(-7,36.333333333333314)\" style=\"font-family: sans-serif; font-size: 10px; fill: #000; opacity: 1;\">50</text><text text-anchor=\"end\" transform=\"translate(-7,3)\" style=\"font-family: sans-serif; font-size: 10px; fill: #000; opacity: 1;\">60</text></g><g class=\"mark-rule role-axis-domain\" style=\"pointer-events: none;\"><line transform=\"translate(0,200)\" x2=\"0\" y2=\"-200\" style=\"fill: none; stroke: #888; stroke-width: 1; opacity: 1;\"></line></g><g class=\"mark-text role-axis-title\" style=\"pointer-events: none;\"><text text-anchor=\"middle\" transform=\"translate(-34,100) rotate(-90) translate(0,-2)\" style=\"font-family: sans-serif; font-size: 11px; font-weight: bold; fill: #000; opacity: 1;\">x1</text></g></g></g></g></g></g></g></g></svg>"
      ],
      "text/plain": [
       "VegaLite.VLSpec{:plot}"
      ]
     },
     "execution_count": 38,
     "metadata": {},
     "output_type": "execute_result"
    }
   ],
   "source": [
    "\n",
    "df |>\n",
    "@vlplot(:bar,enc={x=:group,y=:x1,color=:pharm_group})"
   ]
  },
  {
   "cell_type": "markdown",
   "metadata": {},
   "source": [
    "### Problem 6: Summary Statistics\n",
    "\n",
    "Here are a few variables I think are important with a short explaination as to why I think they are important for pharmacies revenues and costs."
   ]
  },
  {
   "cell_type": "code",
   "execution_count": 22,
   "metadata": {},
   "outputs": [],
   "source": [
    "#Overall Summary Statistics\n",
    "\n",
    "using DataFrames\n",
    "\n",
    "rename!(census1, [x => replace(string(x), \"65 years and over\" => \"over65\")|> Symbol for x in names(census1)]); #people who ar older need to fill more perscriptions\n",
    "rename!(census1, [x => replace(string(x), \"Population, 2016\" => \"pop2016\")|> Symbol for x in names(census1)]); #More people means more potential customers (and competitors)\n",
    "rename!(census1, [x => replace(string(x), \"Bachelor's degree\" => \"Bdegree\")|> Symbol for x in names(census1)]); #Could represent overall wealth of the population centre\n",
    "rename!(census1, [x => replace(string(x), \"Employment rate\" => \"EmpRate\")|> Symbol for x in names(census1)]); #People with jobs are more likey to be covered for perscriptions\n",
    "rename!(census1, [x => replace(string(x), \"Land area in square kilometres\" => \"Area\")|> Symbol for x in names(census1)]); #people in popcentres more spaced out might be willing to\n",
    "                                                                                                                        #drive farther for perscription pick up \n",
    "rename!(census1, [x => replace(string(x), \"Population density per square kilometre\" => \"Density\")|> Symbol for x in names(census1)]); #same logic as popultation \n",
    "\n",
    "\n",
    "using Statistics\n",
    "\n",
    "vars = [:pharmacies, :over65, :pop2016, :Area, :Bdegree, :Area, :Density]\n",
    "\n",
    "function summaryTable(census1, vars;\n",
    "                      funcs=[mean, std,  x->length(collect(x))],\n",
    "                      colnames=[:Variable, :Mean, :StDev, :N])\n",
    "  DataFrame([vars [[f(skipmissing(df[v])) for v in vars] for f in funcs]...], colnames)  \n",
    "end\n",
    "summaryTable(census1, vars);\n",
    "\n"
   ]
  },
  {
   "cell_type": "code",
   "execution_count": null,
   "metadata": {},
   "outputs": [],
   "source": []
  }
 ],
 "metadata": {
  "kernelspec": {
   "display_name": "Julia 1.1.0",
   "language": "julia",
   "name": "julia-1.1"
  },
  "language_info": {
   "file_extension": ".jl",
   "mimetype": "application/julia",
   "name": "julia",
   "version": "1.1.0"
  }
 },
 "nbformat": 4,
 "nbformat_minor": 2
}
